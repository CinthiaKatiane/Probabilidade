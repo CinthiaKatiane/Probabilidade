{
 "cells": [
  {
   "cell_type": "markdown",
   "metadata": {},
   "source": [
    "# Projeto 01\n",
    "#### Aluna: Cinthia Katiane A. Nascimento\n",
    "#### Matrícula: 2015034742\n",
    "\n",
    "### Descrição geral da minha proposta\n",
    "\n",
    "As informações fornecidas no arquivo \"basedados.xlsx\" são limitadas, mas com elas já é possível fazer alguns estudos interessantes. O meu foco neste trabalho é usar as informações que eu tenho acesso, para fazer análises interessantes do ponto de vista de alguém que pretende apostar/jogar na Mega Sena. Eu tento usar a perspectiva de um apostador, buscando uma jogada ideal ou diretrizes para a aposta.\n",
    "\n",
    "Mais detalhes da descrição da tarefa pode ser encontrada no readme.\n",
    "\n",
    "\n",
    "### Uma amostra dos dados fornecidos pelo dataset:"
   ]
  },
  {
   "cell_type": "code",
   "execution_count": 42,
   "metadata": {
    "scrolled": true
   },
   "outputs": [
    {
     "name": "stdout",
     "output_type": "stream",
     "text": [
      "['MegaSena']\n"
     ]
    },
    {
     "data": {
      "text/html": [
       "<div>\n",
       "<style scoped>\n",
       "    .dataframe tbody tr th:only-of-type {\n",
       "        vertical-align: middle;\n",
       "    }\n",
       "\n",
       "    .dataframe tbody tr th {\n",
       "        vertical-align: top;\n",
       "    }\n",
       "\n",
       "    .dataframe thead th {\n",
       "        text-align: right;\n",
       "    }\n",
       "</style>\n",
       "<table border=\"1\" class=\"dataframe\">\n",
       "  <thead>\n",
       "    <tr style=\"text-align: right;\">\n",
       "      <th></th>\n",
       "      <th>Concurso</th>\n",
       "      <th>Data Sorteio</th>\n",
       "      <th>Dezena1</th>\n",
       "      <th>Dezena2</th>\n",
       "      <th>Dezena3</th>\n",
       "      <th>Dezena4</th>\n",
       "      <th>Dezena5</th>\n",
       "      <th>Dezena6</th>\n",
       "      <th>Arrecadacao_Total</th>\n",
       "      <th>Ganhadores_Sena</th>\n",
       "      <th>Rateio_Sena</th>\n",
       "      <th>Ganhadores_Quina</th>\n",
       "      <th>Rateio_Quina</th>\n",
       "      <th>Ganhadores_Quadra</th>\n",
       "      <th>Rateio_Quadra</th>\n",
       "      <th>Acumulado</th>\n",
       "      <th>Valor_Acumulado</th>\n",
       "      <th>Estimativa_Prêmio</th>\n",
       "    </tr>\n",
       "  </thead>\n",
       "  <tbody>\n",
       "    <tr>\n",
       "      <th>0</th>\n",
       "      <td>1</td>\n",
       "      <td>1996-03-11</td>\n",
       "      <td>41</td>\n",
       "      <td>5</td>\n",
       "      <td>4</td>\n",
       "      <td>52</td>\n",
       "      <td>30</td>\n",
       "      <td>33</td>\n",
       "      <td>0.0</td>\n",
       "      <td>0</td>\n",
       "      <td>0.00</td>\n",
       "      <td>17</td>\n",
       "      <td>39158.92</td>\n",
       "      <td>2016</td>\n",
       "      <td>330.21</td>\n",
       "      <td>SIM</td>\n",
       "      <td>1714650.23</td>\n",
       "      <td>0</td>\n",
       "    </tr>\n",
       "    <tr>\n",
       "      <th>1</th>\n",
       "      <td>2</td>\n",
       "      <td>1996-03-18</td>\n",
       "      <td>9</td>\n",
       "      <td>39</td>\n",
       "      <td>37</td>\n",
       "      <td>49</td>\n",
       "      <td>43</td>\n",
       "      <td>41</td>\n",
       "      <td>0.0</td>\n",
       "      <td>1</td>\n",
       "      <td>2307162.23</td>\n",
       "      <td>65</td>\n",
       "      <td>14424.02</td>\n",
       "      <td>4488</td>\n",
       "      <td>208.91</td>\n",
       "      <td>NÃO</td>\n",
       "      <td>0.00</td>\n",
       "      <td>0</td>\n",
       "    </tr>\n",
       "    <tr>\n",
       "      <th>2</th>\n",
       "      <td>3</td>\n",
       "      <td>1996-03-25</td>\n",
       "      <td>36</td>\n",
       "      <td>30</td>\n",
       "      <td>10</td>\n",
       "      <td>11</td>\n",
       "      <td>29</td>\n",
       "      <td>47</td>\n",
       "      <td>0.0</td>\n",
       "      <td>2</td>\n",
       "      <td>391192.51</td>\n",
       "      <td>62</td>\n",
       "      <td>10515.93</td>\n",
       "      <td>4261</td>\n",
       "      <td>153.01</td>\n",
       "      <td>NÃO</td>\n",
       "      <td>0.00</td>\n",
       "      <td>0</td>\n",
       "    </tr>\n",
       "    <tr>\n",
       "      <th>3</th>\n",
       "      <td>4</td>\n",
       "      <td>1996-04-01</td>\n",
       "      <td>6</td>\n",
       "      <td>59</td>\n",
       "      <td>42</td>\n",
       "      <td>27</td>\n",
       "      <td>1</td>\n",
       "      <td>5</td>\n",
       "      <td>0.0</td>\n",
       "      <td>0</td>\n",
       "      <td>0.00</td>\n",
       "      <td>39</td>\n",
       "      <td>15322.24</td>\n",
       "      <td>3311</td>\n",
       "      <td>180.48</td>\n",
       "      <td>SIM</td>\n",
       "      <td>717080.75</td>\n",
       "      <td>0</td>\n",
       "    </tr>\n",
       "    <tr>\n",
       "      <th>4</th>\n",
       "      <td>5</td>\n",
       "      <td>1996-04-08</td>\n",
       "      <td>1</td>\n",
       "      <td>19</td>\n",
       "      <td>46</td>\n",
       "      <td>6</td>\n",
       "      <td>16</td>\n",
       "      <td>2</td>\n",
       "      <td>0.0</td>\n",
       "      <td>0</td>\n",
       "      <td>0.00</td>\n",
       "      <td>98</td>\n",
       "      <td>5318.10</td>\n",
       "      <td>5399</td>\n",
       "      <td>96.53</td>\n",
       "      <td>SIM</td>\n",
       "      <td>1342488.85</td>\n",
       "      <td>0</td>\n",
       "    </tr>\n",
       "  </tbody>\n",
       "</table>\n",
       "</div>"
      ],
      "text/plain": [
       "   Concurso Data Sorteio  Dezena1  Dezena2  Dezena3  Dezena4  Dezena5  \\\n",
       "0         1   1996-03-11       41        5        4       52       30   \n",
       "1         2   1996-03-18        9       39       37       49       43   \n",
       "2         3   1996-03-25       36       30       10       11       29   \n",
       "3         4   1996-04-01        6       59       42       27        1   \n",
       "4         5   1996-04-08        1       19       46        6       16   \n",
       "\n",
       "   Dezena6  Arrecadacao_Total  Ganhadores_Sena  Rateio_Sena  Ganhadores_Quina  \\\n",
       "0       33                0.0                0         0.00                17   \n",
       "1       41                0.0                1   2307162.23                65   \n",
       "2       47                0.0                2    391192.51                62   \n",
       "3        5                0.0                0         0.00                39   \n",
       "4        2                0.0                0         0.00                98   \n",
       "\n",
       "   Rateio_Quina  Ganhadores_Quadra  Rateio_Quadra Acumulado  Valor_Acumulado  \\\n",
       "0      39158.92               2016         330.21       SIM       1714650.23   \n",
       "1      14424.02               4488         208.91       NÃO             0.00   \n",
       "2      10515.93               4261         153.01       NÃO             0.00   \n",
       "3      15322.24               3311         180.48       SIM        717080.75   \n",
       "4       5318.10               5399          96.53       SIM       1342488.85   \n",
       "\n",
       "   Estimativa_Prêmio  \n",
       "0                  0  \n",
       "1                  0  \n",
       "2                  0  \n",
       "3                  0  \n",
       "4                  0  "
      ]
     },
     "execution_count": 42,
     "metadata": {},
     "output_type": "execute_result"
    }
   ],
   "source": [
    "import matplotlib.pyplot as plt\n",
    "import pandas as pd\n",
    "import numpy as np\n",
    "\n",
    "arquivo = 'basedados.xlsx'\n",
    "excel = pd.ExcelFile(arquivo)\n",
    "print(excel.sheet_names)\n",
    "dados = excel.parse(0)\n",
    "dados.head()"
   ]
  },
  {
   "cell_type": "markdown",
   "metadata": {},
   "source": [
    "### Começando pelos números mais frequentes\n",
    "\n",
    "A Mega Sena é um jogo de sorte, mas alguns números parecem ter mais \"sorte\" que outros. Vamos então descobrir quais foram os números que mais saíram nesses sorteios e formar um jogo com base nisso.\n",
    "\n",
    "#### O Output apresenta os números mais frequentes "
   ]
  },
  {
   "cell_type": "code",
   "execution_count": 43,
   "metadata": {},
   "outputs": [
    {
     "name": "stdout",
     "output_type": "stream",
     "text": [
      "[5, 53, 10, 23, 4, 54]\n"
     ]
    }
   ],
   "source": [
    "dezenas = [\"Dezena1\",\"Dezena2\",\"Dezena3\",\"Dezena4\",\"Dezena5\",\"Dezena6\"]\n",
    "aux = dados[dezenas].unstack()\n",
    "jogo_freq = aux.value_counts().head(6).keys().tolist()\n",
    "print (jogo_freq)"
   ]
  },
  {
   "cell_type": "markdown",
   "metadata": {},
   "source": [
    "### Mas e agora? Como saber se é um bom jogo?\n",
    "\n",
    "Vamos verificar se com esse conjunto de números conseguimos ganhar em algum dos sorteios.\n",
    "Eu estou definindo essa verificação como uma função pois ela pode ser reutilizada novamente para verificar outros jogos.\n",
    "\n",
    "#### O output vai mostrar a quantidade de vitórias (Cruze os dedos)"
   ]
  },
  {
   "cell_type": "code",
   "execution_count": 44,
   "metadata": {},
   "outputs": [],
   "source": [
    "def vitoria(meu_jogo):\n",
    "    vitorias = 0\n",
    "    aux = dados[dezenas].stack()\n",
    "    \n",
    "    for i in range(2025):\n",
    "        lista_final = list(set(aux[i].tolist()) - set(meu_jogo))\n",
    "        if len(lista_final) < 3:\n",
    "            print(\"Parabéns, você acertou \", 6-len(lista_final), 'no concurso', i)\n",
    "            vitorias+=1;\n",
    "    print (\"Você teve\", vitorias, \"vitória(s) com esse jogo\")"
   ]
  },
  {
   "cell_type": "code",
   "execution_count": 45,
   "metadata": {},
   "outputs": [
    {
     "name": "stdout",
     "output_type": "stream",
     "text": [
      "Você teve 0 vitória(s) com esse jogo\n"
     ]
    }
   ],
   "source": [
    "vitoria(jogo_freq)"
   ]
  },
  {
   "cell_type": "markdown",
   "metadata": {},
   "source": [
    "### Que pena. \n",
    "\n",
    "Não foi tão bem sucedido quanto nós esperávamos.\n",
    "\n",
    "Mas podemos notar algo interessante sobre essa aposta, temos nele duas sequências, que são (4,5) e (53,54). Será que sequências são boas em apostas?\n",
    "Vamos recalcular nossa aposta ideal e não permitir que haja sequências. Em seguida, vamos verificar se a nossa quantidade de vitórias muda. \n",
    "\n",
    "#### Novo jogo:"
   ]
  },
  {
   "cell_type": "code",
   "execution_count": 46,
   "metadata": {},
   "outputs": [
    {
     "name": "stdout",
     "output_type": "stream",
     "text": [
      "Novo conjunto de números sem sequencias: [5, 53, 10, 23, 51, 33]\n"
     ]
    }
   ],
   "source": [
    "dezenas = [\"Dezena1\",\"Dezena2\",\"Dezena3\",\"Dezena4\",\"Dezena5\",\"Dezena6\"]\n",
    "aux = dados[dezenas].unstack()\n",
    "analise = aux.value_counts().keys().tolist()\n",
    "jogo_sem_seq = []\n",
    "i=0\n",
    "while(len(jogo_sem_seq) < 6):\n",
    "    if (analise[i]+1 not in jogo_sem_seq) and (analise[i]-1 not in jogo_sem_seq):\n",
    "        jogo_sem_seq.append(analise[i])\n",
    "    i+=1\n",
    "print ('Novo conjunto de números sem sequencias:', jogo_sem_seq)"
   ]
  },
  {
   "cell_type": "code",
   "execution_count": 47,
   "metadata": {},
   "outputs": [
    {
     "name": "stdout",
     "output_type": "stream",
     "text": [
      "Parabéns, você acertou  4 no concurso 1025\n",
      "Parabéns, você acertou  4 no concurso 1633\n",
      "Você teve 2 vitória(s) com esse jogo\n"
     ]
    }
   ],
   "source": [
    "vitoria(jogo_sem_seq)"
   ]
  },
  {
   "cell_type": "markdown",
   "metadata": {},
   "source": [
    "### Bem melhor\n",
    "\n",
    "Já temos algumas vitórias, mas vamos continuar usando esses dados e ver se alguma coisa muda.\n",
    "Na jogada passada, 51 e 53 apareceram no mesmo jogo, vamos ver se algo acontece se escolhermos apenas um número para cada intervalo de dezena."
   ]
  },
  {
   "cell_type": "code",
   "execution_count": 48,
   "metadata": {},
   "outputs": [
    {
     "name": "stdout",
     "output_type": "stream",
     "text": [
      "[5, 10, 23, 33, 42, 53]\n"
     ]
    }
   ],
   "source": [
    "jogo_dez = []\n",
    "for j in range(0,60,10):\n",
    "    i=0\n",
    "    x = len(jogo_dez)\n",
    "    while(len(jogo_dez) is x):\n",
    "        if (analise[i] >= j and analise[i]<j+10):\n",
    "            jogo_dez.append(analise[i])\n",
    "        i+=1\n",
    "print (jogo_dez)"
   ]
  },
  {
   "cell_type": "code",
   "execution_count": 49,
   "metadata": {},
   "outputs": [
    {
     "name": "stdout",
     "output_type": "stream",
     "text": [
      "Você teve 0 vitória(s) com esse jogo\n"
     ]
    }
   ],
   "source": [
    "vitoria(jogo_dez)"
   ]
  },
  {
   "cell_type": "markdown",
   "metadata": {},
   "source": [
    "## Opa, não deu certo\n",
    "\n",
    "Tudo bem, jogos de sorte e azar são imprevisíveis mesmo, mas o objetivo é realmente manipular os dados e se surpreender com os resultados.\n",
    "\n",
    "#### Vamos aumentar as nossas chances\n",
    "\n",
    "A mega sena permite que a aposta tenha entre 6 e 15 números. Usando essa lista de números mais frequentes, vamos verificar quantos sorteios poderíamos ganhar, se aumentarmos a quantidade de números."
   ]
  },
  {
   "cell_type": "code",
   "execution_count": 50,
   "metadata": {},
   "outputs": [],
   "source": [
    "#Essa função verifica o número de vitórias, mas também define se foi sena, quina ou quadra\n",
    "def qtd_vitorias(meu_jogo):\n",
    "    vitorias = 0\n",
    "    aux = dados[dezenas].stack()\n",
    "    vit = {}\n",
    "    vit['Sena'] = 0\n",
    "    vit['Quina'] = 0\n",
    "    vit['Quadra'] = 0\n",
    "    for i in range(2025):\n",
    "        lista_final = list(set(aux[i].tolist()) - set(meu_jogo))\n",
    "        igual = list(set((aux[i].tolist()) )- set(lista_final)) \n",
    "        if len(lista_final) < 3:\n",
    "            vitorias+=1;\n",
    "            if (len(lista_final)) == 0:\n",
    "                vit['Sena'] += 1\n",
    "            elif((len(lista_final)) == 1):\n",
    "                vit['Quina'] += 1\n",
    "            else:\n",
    "                vit['Quadra'] += 1\n",
    "    return vit"
   ]
  },
  {
   "cell_type": "code",
   "execution_count": 51,
   "metadata": {},
   "outputs": [
    {
     "name": "stdout",
     "output_type": "stream",
     "text": [
      "Com 6 números:\n",
      "[5, 53, 10, 23, 4, 54]\n",
      "Você teve 0 vitória(s) com esse jogo\n",
      "Sena = 0 ; Quina =  0 ; Quadra =  0\n",
      "\n",
      "\n",
      "Com 7 números:\n",
      "[5, 53, 10, 23, 4, 54, 51]\n",
      "Você teve 1 vitória(s) com esse jogo\n",
      "Sena = 0 ; Quina =  0 ; Quadra =  1\n",
      "\n",
      "\n",
      "Com 8 números:\n",
      "[5, 53, 10, 23, 4, 54, 51, 24]\n",
      "Você teve 5 vitória(s) com esse jogo\n",
      "Sena = 0 ; Quina =  0 ; Quadra =  5\n",
      "\n",
      "\n",
      "Com 9 números:\n",
      "[5, 53, 10, 23, 4, 54, 51, 24, 33]\n",
      "Você teve 11 vitória(s) com esse jogo\n",
      "Sena = 0 ; Quina =  0 ; Quadra =  11\n",
      "\n",
      "\n",
      "Com 10 números:\n",
      "[5, 53, 10, 23, 4, 54, 51, 24, 33, 17]\n",
      "Você teve 23 vitória(s) com esse jogo\n",
      "Sena = 0 ; Quina =  2 ; Quadra =  21\n",
      "\n",
      "\n",
      "Com 11 números:\n",
      "[5, 53, 10, 23, 4, 54, 51, 24, 33, 17, 52]\n",
      "Você teve 36 vitória(s) com esse jogo\n",
      "Sena = 0 ; Quina =  2 ; Quadra =  34\n",
      "\n",
      "\n",
      "Com 12 números:\n",
      "[5, 53, 10, 23, 4, 54, 51, 24, 33, 17, 52, 28]\n",
      "Você teve 44 vitória(s) com esse jogo\n",
      "Sena = 0 ; Quina =  5 ; Quadra =  39\n",
      "\n",
      "\n",
      "Com 13 números:\n",
      "[5, 53, 10, 23, 4, 54, 51, 24, 33, 17, 52, 28, 42]\n",
      "Você teve 58 vitória(s) com esse jogo\n",
      "Sena = 0 ; Quina =  7 ; Quadra =  51\n",
      "\n",
      "\n",
      "Com 14 números:\n",
      "[5, 53, 10, 23, 4, 54, 51, 24, 33, 17, 52, 28, 42, 32]\n",
      "Você teve 72 vitória(s) com esse jogo\n",
      "Sena = 0 ; Quina =  9 ; Quadra =  63\n",
      "\n",
      "\n",
      "Com 15 números:\n",
      "[5, 53, 10, 23, 4, 54, 51, 24, 33, 17, 52, 28, 42, 32, 30]\n",
      "Você teve 88 vitória(s) com esse jogo\n",
      "Sena = 1 ; Quina =  10 ; Quadra =  77\n",
      "\n",
      "\n"
     ]
    }
   ],
   "source": [
    "for i in range(6,16):\n",
    "    print('Com', i, 'números:')\n",
    "    jogo_plus = aux.value_counts().head(i).keys().tolist()\n",
    "    print (jogo_plus)\n",
    "    vit = qtd_vitorias(jogo_plus)\n",
    "    total =  vit['Sena']+ vit['Quina'] + vit['Quadra']\n",
    "    print (\"Você teve\", total, \"vitória(s) com esse jogo\")\n",
    "    print ('Sena =', vit['Sena'], '; Quina = ', vit['Quina'], '; Quadra = ', vit['Quadra'])\n",
    "    print('\\n')"
   ]
  },
  {
   "cell_type": "markdown",
   "metadata": {},
   "source": [
    "## Uau\n",
    "\n",
    "Os resultados são impressionantes, pena que o valor de uma aposta de 15 números na Mega Sena é entre 12 e 17 mil reais, e mesmo assim a vitória ainda não é certa.\n",
    "\n",
    "Até agora nós utilizamos apenas os valores que mais apareceram no sorteio, mas e se compararmos as ocorrências de cada número, será que a diferença é tão grande assim? Vamos colocar todos eles em um gráfico de barras, isso vai deixar a visualização bem mais simples."
   ]
  },
  {
   "cell_type": "code",
   "execution_count": 52,
   "metadata": {},
   "outputs": [
    {
     "data": {
      "image/png": "[encoded data removed]",
      "text/plain": [
       "<matplotlib.figure.Figure at 0x7f607d796588>"
      ]
     },
     "metadata": {},
     "output_type": "display_data"
    }
   ],
   "source": [
    "freq = aux.value_counts()\n",
    "plt.bar(freq.keys(), freq)\n",
    "plt.xlabel('Número')\n",
    "plt.ylabel('Número de Ocorrencias')\n",
    "plt.title('Ocorrencias de cada número')\n",
    "plt.axis([0, 60, 0, 250])\n",
    "plt.grid(True)\n",
    "plt.show()"
   ]
  },
  {
   "cell_type": "code",
   "execution_count": 53,
   "metadata": {},
   "outputs": [
    {
     "data": {
      "image/png": "[encoded data removed]",
      "text/plain": [
       "<matplotlib.figure.Figure at 0x7f607d92f630>"
      ]
     },
     "metadata": {},
     "output_type": "display_data"
    }
   ],
   "source": [
    "plt.bar(freq.keys(), freq)\n",
    "plt.xlabel('Número')\n",
    "plt.ylabel('Número de Ocorrencias')\n",
    "plt.title('Ocorrencias de cada número')\n",
    "plt.axis([0, 60, 160, 240])\n",
    "plt.grid(True)\n",
    "plt.show()"
   ]
  },
  {
   "cell_type": "markdown",
   "metadata": {},
   "source": [
    "#### Não podemos esquecer que o sorteio acontece de forma aleatória \n",
    "A leitura dessas figuras nos permite apenas perceber com a quantidade de ocorrências dos números nesse jogo realmente parece aleatória."
   ]
  },
  {
   "cell_type": "markdown",
   "metadata": {},
   "source": [
    "### Continuando nossas análises\n",
    "\n",
    "Existe um módulo de python, chamado intertools, que nos possibilita encontrar todas as combinações de um conjunto de números, então vamos usar o top 10 números mais frequentes para investigar se existem combinações melhores entre eles. \n",
    "Esse processamento é lento e leva alguns minutos, por isso ele está sendo feito com um subconjunto de apenas 10 elementos, no futuro ele pode ser aprimorado, permitindo que seja feita a verificação dos 60 números da Sena. \n",
    "\n",
    "#### O Output apresenta apenas as apostas que venceram quina ou sena"
   ]
  },
  {
   "cell_type": "code",
   "execution_count": 54,
   "metadata": {},
   "outputs": [
    {
     "name": "stdout",
     "output_type": "stream",
     "text": [
      "(5, 53, 10, 51, 33, 17)\n",
      "Sena = 0 ; Quina =  1 ; Quadra =  1\n",
      "(5, 10, 4, 54, 24, 17)\n",
      "Sena = 0 ; Quina =  1 ; Quadra =  1\n",
      "(53, 10, 23, 51, 33, 17)\n",
      "Sena = 0 ; Quina =  1 ; Quadra =  2\n",
      "(53, 10, 4, 54, 24, 17)\n",
      "Sena = 0 ; Quina =  1 ; Quadra =  0\n",
      "(53, 10, 4, 51, 33, 17)\n",
      "Sena = 0 ; Quina =  1 ; Quadra =  0\n",
      "(53, 10, 54, 51, 33, 17)\n",
      "Sena = 0 ; Quina =  1 ; Quadra =  1\n",
      "(53, 10, 51, 24, 33, 17)\n",
      "Sena = 0 ; Quina =  1 ; Quadra =  1\n",
      "(10, 23, 4, 54, 24, 17)\n",
      "Sena = 0 ; Quina =  1 ; Quadra =  1\n",
      "(10, 4, 54, 51, 24, 17)\n",
      "Sena = 0 ; Quina =  1 ; Quadra =  2\n",
      "(10, 4, 54, 24, 33, 17)\n",
      "Sena = 0 ; Quina =  1 ; Quadra =  2\n"
     ]
    }
   ],
   "source": [
    "from itertools import combinations\n",
    "conj = aux.value_counts().head(10).keys().tolist()\n",
    "\n",
    "comb = combinations(conj, 6)\n",
    "for i in list(comb):\n",
    "    win = qtd_vitorias(i)\n",
    "    if (win['Sena']>0) or (win['Quina']>0):\n",
    "        print (i)\n",
    "        print ('Sena =', win['Sena'], '; Quina = ', win['Quina'], '; Quadra = ', win['Quadra'])"
   ]
  },
  {
   "cell_type": "markdown",
   "metadata": {},
   "source": [
    "### Cadê a sena?\n",
    "\n",
    "Conseguimos encontrar algumas quinas usando as combinações, mas ainda nenhuma sena.\n",
    "Que tal fazer o caminho inverso? Vamos verificar o que acontece se apostarmos em um conjunto de números que já foi sorteado. Vamos fazer o teste para os sorteios dos primeiros 50 concursos.\n",
    "\n",
    "#### O Output apresenta apenas as apostas que venceram algo além da sena da rodada"
   ]
  },
  {
   "cell_type": "code",
   "execution_count": 55,
   "metadata": {},
   "outputs": [
    {
     "name": "stdout",
     "output_type": "stream",
     "text": [
      "[9, 39, 37, 49, 43, 41]\n",
      "{'Sena': 1, 'Quina': 0, 'Quadra': 4}\n",
      "[6, 59, 42, 27, 1, 5]\n",
      "{'Sena': 1, 'Quina': 0, 'Quadra': 1}\n",
      "[1, 19, 46, 6, 16, 2]\n",
      "{'Sena': 1, 'Quina': 0, 'Quadra': 1}\n",
      "[56, 38, 21, 20, 3, 5]\n",
      "{'Sena': 1, 'Quina': 0, 'Quadra': 1}\n",
      "[53, 17, 38, 4, 47, 37]\n",
      "{'Sena': 1, 'Quina': 0, 'Quadra': 1}\n",
      "[55, 43, 56, 54, 8, 60]\n",
      "{'Sena': 1, 'Quina': 0, 'Quadra': 2}\n",
      "[25, 4, 18, 57, 21, 38]\n",
      "{'Sena': 1, 'Quina': 0, 'Quadra': 3}\n",
      "[25, 15, 58, 37, 59, 38]\n",
      "{'Sena': 1, 'Quina': 0, 'Quadra': 2}\n",
      "[20, 27, 43, 16, 19, 4]\n",
      "{'Sena': 1, 'Quina': 0, 'Quadra': 1}\n",
      "[47, 32, 50, 54, 18, 56]\n",
      "{'Sena': 1, 'Quina': 0, 'Quadra': 1}\n",
      "[60, 12, 33, 52, 35, 51]\n",
      "{'Sena': 1, 'Quina': 0, 'Quadra': 2}\n",
      "[60, 58, 49, 32, 20, 34]\n",
      "{'Sena': 1, 'Quina': 0, 'Quadra': 1}\n",
      "[37, 36, 56, 27, 42, 23]\n",
      "{'Sena': 1, 'Quina': 0, 'Quadra': 2}\n",
      "[5, 25, 12, 10, 60, 24]\n",
      "{'Sena': 1, 'Quina': 0, 'Quadra': 1}\n",
      "[25, 28, 30, 33, 51, 11]\n",
      "{'Sena': 1, 'Quina': 0, 'Quadra': 1}\n",
      "[1, 8, 14, 28, 33, 43]\n",
      "{'Sena': 1, 'Quina': 0, 'Quadra': 1}\n",
      "[56, 50, 55, 54, 24, 43]\n",
      "{'Sena': 1, 'Quina': 0, 'Quadra': 1}\n",
      "[38, 50, 7, 29, 15, 14]\n",
      "{'Sena': 1, 'Quina': 0, 'Quadra': 2}\n",
      "[56, 19, 28, 48, 17, 45]\n",
      "{'Sena': 1, 'Quina': 0, 'Quadra': 1}\n",
      "[43, 33, 14, 36, 5, 44]\n",
      "{'Sena': 1, 'Quina': 0, 'Quadra': 1}\n",
      "[5, 33, 49, 17, 42, 39]\n",
      "{'Sena': 1, 'Quina': 0, 'Quadra': 2}\n",
      "[13, 3, 51, 17, 29, 25]\n",
      "{'Sena': 1, 'Quina': 0, 'Quadra': 2}\n",
      "[16, 37, 45, 52, 56, 12]\n",
      "{'Sena': 1, 'Quina': 0, 'Quadra': 2}\n",
      "[3, 12, 46, 5, 47, 8]\n",
      "{'Sena': 1, 'Quina': 0, 'Quadra': 2}\n",
      "[47, 38, 18, 14, 29, 44]\n",
      "{'Sena': 1, 'Quina': 0, 'Quadra': 2}\n",
      "[32, 46, 1, 60, 24, 23]\n",
      "{'Sena': 1, 'Quina': 0, 'Quadra': 1}\n",
      "[35, 17, 3, 48, 25, 56]\n",
      "{'Sena': 1, 'Quina': 0, 'Quadra': 1}\n",
      "[33, 7, 43, 35, 13, 55]\n",
      "{'Sena': 1, 'Quina': 0, 'Quadra': 1}\n"
     ]
    }
   ],
   "source": [
    "vitorias = 0\n",
    "best_seq = []\n",
    "qtd_win = 0\n",
    "aux = dados[dezenas].stack()\n",
    "for j in range(50):\n",
    "    teste_jogo = aux[j].tolist()\n",
    "    win = qtd_vitorias(teste_jogo)\n",
    "    if (win['Sena']>1) or (win['Quina']>0) or (win['Quadra']>0):\n",
    "        print (teste_jogo)\n",
    "        print (win)"
   ]
  },
  {
   "cell_type": "markdown",
   "metadata": {},
   "source": [
    "#### Depois de todas as manipulações, combinações e sugestões de jogos você ainda não sabe o que jogar? Nem eu\n",
    "\n",
    "Mas vamos tentar ir pelo caminho mais seguro, se você possui um conjunto de números e não sabe se vale a pena apostar nele, vamos pelo menos tentar verificar pela soma das dezenas. O gráfico de barras abaixo representa as somas mais frequentes"
   ]
  },
  {
   "cell_type": "code",
   "execution_count": 56,
   "metadata": {},
   "outputs": [
    {
     "data": {
      "image/png": "[encoded data removed]",
      "text/plain": [
       "<matplotlib.figure.Figure at 0x7f607d7b0ac8>"
      ]
     },
     "metadata": {},
     "output_type": "display_data"
    }
   ],
   "source": [
    "dezenas = [\"Dezena1\",\"Dezena2\",\"Dezena3\",\"Dezena4\",\"Dezena5\",\"Dezena6\"]\n",
    "dados[\"Soma_Dezenas\"] = dados[dezenas].sum(axis=1)\n",
    "plt.hist(dados['Soma_Dezenas'], range=(0, 360))\n",
    "plt.xlabel('Somas')\n",
    "plt.ylabel('Ocorrencias')\n",
    "plt.grid(True)\n",
    "plt.show()"
   ]
  },
  {
   "cell_type": "markdown",
   "metadata": {},
   "source": [
    "<b>Resolução</b>: Esse gráfico de barras nos mostra que se a soma das dezenas que queremos apostar estiver entre 150 e 210 (aproximadamente) esse conjunto tem muito mais chance. \n",
    "\n",
    "## Conclusão\n",
    "Fizemos várias manipulações e sugestões de jogos e demos até uma diretriz para que você possa escolher a sua aposta, e mesmo assim não encontramos nenhum resultado substancial e confiável. A mega sena é um jogo de azar, podemos até procurar padrões, mas resultados concretos não serão possíveis (ou pelo menos não os encontramos). Outras análises podem ser feitas e aprimoradas, mas isso ficará para cenas dos próximos capítulos.\n"
   ]
  },
  {
   "cell_type": "markdown",
   "metadata": {},
   "source": [
    "## Funcionalidades que eu pretendo implementar ou melhorar futuramente:\n",
    "\n",
    "#### Melhorar combinações\n",
    "\n",
    "Como eu já disse antes, o módulo itertools permite ter todas as combinações de um conjunto de números, ter essas combinações é rápido, o problema é verificar para cada combinação, se ela vence algum sorteio. Esse processo pode ser otimizado, já que existem combinações em que mesmo mudando 1 ou 2 números no conjunto ele ainda não seria capaz de ganhar um quadra, então pela lógica, o processamento dessas combinações poderia ser evitado, reduzindo o número de verificações e o tempo gasto.\n",
    "\n",
    "#### Histórico de sorteios\n",
    "\n",
    "Seria interessante fazer um estudo das ocorrências dos números ou dos conjuntos com o passar do tempo, buscando algum tipo de comportamento inesperado ou padrões na linha do tempo.\n",
    "\n",
    "#### Grafo de apostas\n",
    "\n",
    "Existe uma biblioteca chamada [networkx](https://en.wikipedia.org/wiki/NetworkX), que facilita a construção de <b>grafos</b>. Podemos usar grafos para encontrar caminhos e estudar o relacionamentos entre os números.\n",
    "Ele nos permitia ter resultados como esse (porém será em uma escala bem maior):"
   ]
  },
  {
   "cell_type": "code",
   "execution_count": 34,
   "metadata": {},
   "outputs": [
    {
     "data": {
      "image/png": "[encoded data removed]",
      "text/plain": [
       "<matplotlib.figure.Figure at 0x7f607d842c88>"
      ]
     },
     "metadata": {},
     "output_type": "display_data"
    }
   ],
   "source": [
    "import networkx as nx\n",
    "import matplotlib.pyplot as plt\n",
    "g = nx.Graph()\n",
    "g.add_nodes_from(range(1,10))\n",
    "g.add_edge(1,7,weight=0.1)\n",
    "g.add_edge(1,5,weight=0.3)\n",
    "g.add_edge(7,6,weight=0.1)\n",
    "g.add_edge(3,9,weight=0.1)\n",
    "g.add_edge(4,2,weight=0.1)\n",
    "\n",
    "plt.axis('off')\n",
    "\n",
    "nx.draw_networkx(g,pos = nx.spring_layout(g), with_labels=True, node_size=800)\n",
    "plt.show()"
   ]
  }
 ],
 "metadata": {
  "kernelspec": {
   "display_name": "Python 3",
   "language": "python",
   "name": "python3"
  },
  "language_info": {
   "codemirror_mode": {
    "name": "ipython",
    "version": 3
   },
   "file_extension": ".py",
   "mimetype": "text/x-python",
   "name": "python",
   "nbconvert_exporter": "python",
   "pygments_lexer": "ipython3",
   "version": "3.6.4"
  }
 },
 "nbformat": 4,
 "nbformat_minor": 2
}
