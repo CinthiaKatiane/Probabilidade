{
 "cells": [
  {
   "cell_type": "markdown",
   "metadata": {},
   "source": [
    "## 1. Projeto da Unidade 1\n",
    "#### Aluna: Cinthia Katiane Araújo do Nascimento\n",
    "#### Matrícula: 2015034742\n",
    "\n",
    "### 1.1 Descrição do cenário\n",
    "\n",
    "Imagine que vocês foram selecionados para uma entrevista de emprego para o cargo de Cientista de Dados de uma grande empresa multinacional. A seleção será baseada em vários critérios, destacando as seguintes habilidades: resolução de problemas, criatividade, interpretação, escrita, organização, inovação, proeficiência em pandas, análise exploratória de dados e storytelling. Foi passado para vocês o dataset contendo todos os resultados da Megasena, o desafio consiste em interpretar esses dados e criar um significado de entendimento conciso e claro.\n",
    "\n",
    "\n",
    "### 1.2 Requisitos\n",
    "\n",
    "\n",
    "1. Utilizar apenas o dataset disponibilizado para essa atividade\n",
    "2. Criar um repositório no Github para a atividade\n",
    "3. Enviar apenas o link do respectivo repositório\n",
    "4. Criar um notebook descrevendo todos os códigos realizados\n",
    "5. Todos os códigos precisam estar bem documentados\n",
    "6. Vocês precisam gerar no máximo 4 figuras\n",
    "7. Cada figura deve acompanhar uma célula com um texto descritivo, demonstrando todo o resultado encontrado\n",
    "\n",
    "### Seja inovador\n",
    "\n",
    "### 1.3 Avaliação\n",
    "\n",
    "O trabalho deverá ser realizado individualmente e irá valer 3,00 pontos extras na Unidade I."
   ]
  },
  {
   "cell_type": "code",
   "execution_count": 3,
   "metadata": {},
   "outputs": [],
   "source": [
    "import pandas as pd\n",
    "\n",
    "info = pd.read_csv(\"basedados.csv\")\n"
   ]
  }
 ],
 "metadata": {
  "kernelspec": {
   "display_name": "Python 2",
   "language": "python",
   "name": "python2"
  },
  "language_info": {
   "codemirror_mode": {
    "name": "ipython",
    "version": 2
   },
   "file_extension": ".py",
   "mimetype": "text/x-python",
   "name": "python",
   "nbconvert_exporter": "python",
   "pygments_lexer": "ipython2",
   "version": "2.7.14"
  }
 },
 "nbformat": 4,
 "nbformat_minor": 2
}
